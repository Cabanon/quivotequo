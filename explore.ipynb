{
 "cells": [
  {
   "cell_type": "code",
   "execution_count": 10,
   "metadata": {},
   "outputs": [],
   "source": [
    "import pandas as pd"
   ]
  },
  {
   "cell_type": "code",
   "execution_count": 11,
   "metadata": {},
   "outputs": [],
   "source": [
    "df = pd.read_csv('_data/attendances.csv')"
   ]
  },
  {
   "cell_type": "code",
   "execution_count": 19,
   "metadata": {},
   "outputs": [
    {
     "data": {
      "text/plain": [
       "258"
      ]
     },
     "execution_count": 19,
     "metadata": {},
     "output_type": "execute_result"
    }
   ],
   "source": [
    "df.groupby('member_id').attend.value_counts().max()"
   ]
  },
  {
   "cell_type": "code",
   "execution_count": 20,
   "metadata": {},
   "outputs": [],
   "source": [
    "df = pd.read_csv('_data/members.csv')"
   ]
  },
  {
   "cell_type": "code",
   "execution_count": 22,
   "metadata": {},
   "outputs": [
    {
     "data": {
      "text/plain": [
       "90"
      ]
     },
     "execution_count": 22,
     "metadata": {},
     "output_type": "execute_result"
    }
   ],
   "source": [
    "len(df)"
   ]
  },
  {
   "cell_type": "code",
   "execution_count": 21,
   "metadata": {},
   "outputs": [
    {
     "data": {
      "text/plain": [
       "party\n",
       "Rassemblement national               26\n",
       "Renaissance                          18\n",
       "Europe Écologie                      12\n",
       "Les Républicains                      8\n",
       "La France Insoumise                   6\n",
       "Mouvement Démocrate                   5\n",
       "Parti socialiste                      4\n",
       "Régions et Peuples Solidaires         2\n",
       "Parti Radical                         2\n",
       "Place publique                        2\n",
       "Gauche républicaine et socialiste     1\n",
       "Indépendant                           1\n",
       "Les centristes                        1\n",
       "Nouvelle Donne                        1\n",
       "Alliance Écologiste Indépendante      1\n",
       "Name: count, dtype: int64"
      ]
     },
     "execution_count": 21,
     "metadata": {},
     "output_type": "execute_result"
    }
   ],
   "source": [
    "df[df.active].party.value_counts()"
   ]
  },
  {
   "cell_type": "code",
   "execution_count": null,
   "metadata": {},
   "outputs": [],
   "source": [
    "import requests, bs4\n",
    "\n",
    "request = requests.get('https://www.europarl.europa.eu/doceo/document/A-9-2021-0152_FR.html')\n",
    "request.raise_for_status()\n",
    "html = bs4.BeautifulSoup(request.content)"
   ]
  },
  {
   "cell_type": "code",
   "execution_count": 21,
   "metadata": {},
   "outputs": [
    {
     "data": {
      "text/plain": [
       "committees\n",
       "ENVI    985\n",
       "ECON    836\n",
       "BUDG    715\n",
       "ITRE    698\n",
       "LIBE    633\n",
       "EMPL    629\n",
       "TRAN    553\n",
       "CONT    526\n",
       "IMCO    522\n",
       "AGRI    518\n",
       "JURI    447\n",
       "AFET    443\n",
       "INTA    429\n",
       "REGI    362\n",
       "PECH    345\n",
       "DEVE    328\n",
       "AFCO    287\n",
       "FEMM    278\n",
       "CULT    276\n",
       "PETI    157\n",
       "BUDE      6\n",
       "ING2      4\n",
       "PEGA      2\n",
       "COVI      2\n",
       "ANIT      1\n",
       "INGE      1\n",
       "BECA      1\n",
       "AIDA      1\n",
       "Name: count, dtype: int64"
      ]
     },
     "execution_count": 21,
     "metadata": {},
     "output_type": "execute_result"
    }
   ],
   "source": [
    "import pandas as pd\n",
    "import json\n",
    "\n",
    "df = pd.read_csv('_data/procedures.csv')\n",
    "df.committees.apply(json.loads).explode().value_counts()"
   ]
  }
 ],
 "metadata": {
  "kernelspec": {
   "display_name": "venv",
   "language": "python",
   "name": "python3"
  },
  "language_info": {
   "codemirror_mode": {
    "name": "ipython",
    "version": 3
   },
   "file_extension": ".py",
   "mimetype": "text/x-python",
   "name": "python",
   "nbconvert_exporter": "python",
   "pygments_lexer": "ipython3",
   "version": "3.12.2"
  }
 },
 "nbformat": 4,
 "nbformat_minor": 2
}
